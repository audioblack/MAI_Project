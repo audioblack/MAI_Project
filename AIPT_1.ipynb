{
 "cells": [
  {
   "cell_type": "markdown",
   "metadata": {},
   "source": [
    "# Индивидуальное задание по предмету \"Анализ информационных процессов и технологий\" студента группы М8О-104М-21 Полянского А.Ю. Преподователь: Пановский Валентин Николаевич"
   ]
  },
  {
   "cell_type": "markdown",
   "metadata": {},
   "source": [
    "№1 Создание матриц как списка списков, без NumPy"
   ]
  },
  {
   "cell_type": "code",
   "execution_count": null,
   "metadata": {},
   "outputs": [],
   "source": [
    "n = int(input()) #задаем кол-во строк в нашей матрице\n",
    "A = [] #пустая матрица\n",
    "for i in range(n):\n",
    "    row = input().split() #вводим полностью всю строку в нашу матрицу, столбцы будут отделены пробелами\n",
    "                               \n",
    "    for i in range(len(row)): #для каждого элемента в строке\n",
    "        row[i] = int(row[i]) #производим преобразование из str в int\n",
    "    A.append(row) #и добовляем в матрицу нашу строку          \n",
    "print(A) #получаем матрицу из n строк и len(row) столбцов"
   ]
  },
  {
   "cell_type": "markdown",
   "metadata": {},
   "source": [
    "№2 Сложение матриц полученных в предыдущем окне без использования NumPy"
   ]
  },
  {
   "cell_type": "code",
   "execution_count": null,
   "metadata": {
    "scrolled": false
   },
   "outputs": [],
   "source": [
    "A = [[1, 2, 3, 4], [4, 3, 2, 1], [1, 2, 3, 4], [1, 1, 1, 1]] #создаем нужную нам квадратную матрицу с помощью вышеопианного\n",
    "#способа и заносим сюда\n",
    "   \n",
    "B = [[1, 2, 3, 4], [4, 3, 2, 1], [1, 2, 3, 4], [1, 1, 1, 1]]\n",
    "\n",
    "result = [[A[i][j] + B[i][j]  for j in range (len(A[0]))] for i in range(len(A))]\n",
    "#результатом будет сложенное значение элементов с одинаковыми индексами\n",
    "#сложение проводится для каждого столбца кол-во которых определяется по длине 0-го элемента матрицы А\n",
    "for r in result: \n",
    "    print(r)"
   ]
  },
  {
   "cell_type": "markdown",
   "metadata": {},
   "source": [
    "№3 Использование NumPy для сложения матриц"
   ]
  },
  {
   "cell_type": "code",
   "execution_count": null,
   "metadata": {},
   "outputs": [],
   "source": [
    "import numpy as np\n",
    "A = np.array([[2, 4], [5, -6],[1, 2]]) # NumPy позволяет представлять матрицу как массив и уже с помощью встроенных функци\n",
    "B = np.array([[9, -3], [3, 6], [3, 5]])# мы можем складывать, вычитать и т.д. что значительно упрощает жизнь по сравненю \n",
    "C = A + B                              # с использование выше приведенного способа\n",
    "print(C)"
   ]
  }
 ],
 "metadata": {
  "kernelspec": {
   "display_name": "Python 3",
   "language": "python",
   "name": "python3"
  },
  "language_info": {
   "codemirror_mode": {
    "name": "ipython",
    "version": 3
   },
   "file_extension": ".py",
   "mimetype": "text/x-python",
   "name": "python",
   "nbconvert_exporter": "python",
   "pygments_lexer": "ipython3",
   "version": "3.7.6"
  }
 },
 "nbformat": 4,
 "nbformat_minor": 4
}
